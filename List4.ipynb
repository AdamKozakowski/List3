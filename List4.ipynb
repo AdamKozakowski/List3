{
 "cells": [
  {
   "cell_type": "markdown",
   "metadata": {},
   "source": [
    "1. Let G = ({1, 2, 3, 4, 5, 7, 8, 9, 10}, {1 → 2, 2 → 1, 2 → 3, 2 → 2, 3 → 4, 3 → 2, 4 → 2, 4 →\n",
    "4, 4 → 5, 5 → 4, 4 → 1, 1 → 5, 9 → 10, 8 → 7, 7 → 8, 4 → 9, 10 → 7, 8 → 1}). An\n",
    "agent is placed at in a vertex 1. In each step the agent chooses randomly out-going\n",
    "edge and goes to the vertex pointed by this edge. Find the distribution of the position\n",
    "of the agent after 2,"
   ]
  },
  {
   "cell_type": "code",
   "execution_count": 1,
   "metadata": {},
   "outputs": [],
   "source": [
    "import numpy as np\n",
    "import random as r\n",
    "import collections\n",
    "import seaborn as sns\n",
    "import matplotlib.pyplot as plt"
   ]
  },
  {
   "cell_type": "code",
   "execution_count": 2,
   "metadata": {},
   "outputs": [],
   "source": [
    "#Let G\n",
    "adjacency_matrix = np.array([\n",
    "    [0, 1, 0, 0, 1, 0, 0, 0, 0, 0],  \n",
    "    [1, 1, 1, 0, 0, 0, 0, 0, 0, 0],  \n",
    "    [0, 1, 0, 1, 0, 0, 0, 0, 0, 0], \n",
    "    [1, 1, 0, 1, 1, 0, 0, 0, 1, 0], \n",
    "    [0, 0, 0, 1, 0, 0, 0, 0, 0, 0], \n",
    "    [0, 0, 0, 0, 0, 0, 0, 0, 0, 0],  \n",
    "    [0, 0, 0, 0, 0, 0, 0, 1, 0, 0], \n",
    "    [1, 0, 0, 0, 0, 0, 1, 0, 0, 0],  \n",
    "    [0, 0, 0, 0, 0, 0, 0, 0, 0, 1],  \n",
    "    [0, 0, 0, 0, 0, 0, 1, 0, 0, 0]   \n",
    "])"
   ]
  },
  {
   "cell_type": "code",
   "execution_count": 22,
   "metadata": {},
   "outputs": [],
   "source": [
    "def run_agent(steps):\n",
    "    #An agent is placed at in a vertex 1.\n",
    "    agent_position = 0\n",
    "\n",
    "    for _ in range(steps): \n",
    "        neighbours = []\n",
    "        #out-going edges\n",
    "        for i in range(len(adjacency_matrix)):\n",
    "            if adjacency_matrix[agent_position][i] == 1:\n",
    "                neighbours.append(i)\n",
    "        #in each step the agent chooses randomly out-going edge and goes to the vertex pointed by this edge\n",
    "        agent_position = r.choice(neighbours)\n",
    "    return agent_position"
   ]
  },
  {
   "cell_type": "code",
   "execution_count": 27,
   "metadata": {},
   "outputs": [],
   "source": [
    "def run_agent_multiple_times(steps, MCS):\n",
    "    final_positions = []\n",
    "    for _ in range(MCS):\n",
    "        final_positions.append(run_agent(steps))\n",
    "\n",
    "    sns.histplot(final_positions, stat=\"probability\", discrete=True)\n",
    "    plt.title(f'Distribution after {steps} steps (MCS = {MCS})')\n",
    "    plt.xlabel('Vertex')\n",
    "    plt.ylabel('Probability')\n",
    "    plt.show()\n",
    "\n",
    "    # final_positions =[]\n",
    "    # for i in range(MCS):\n",
    "    #     final_positions.append(run_agent(steps))\n",
    "    # # Postprocessing data\n",
    "    # frequencies = collections.Counter(final_positions)\n",
    "    # positions_ranked = sorted(frequencies.items(), key=lambda x: x[1], reverse=True)\n",
    "\n",
    "    # filename = f\"{steps}_{MCS}.txt\"\n",
    "    # with open(filename, \"w\", encoding=\"utf8\") as output_file:\n",
    "    #     output_file.write(\"Rank\\tFinal Position\\tCount\\tFreq\\n\")\n",
    "    #     for rank, (position, count) in enumerate(positions_ranked, start=1):\n",
    "    #         output_file.write(f\"{rank}\\t{position}\\t{count}\\t{count/MCS:.6f}\\n\")\n",
    "    # print(f\"Result saved to {filename}\")"
   ]
  },
  {
   "cell_type": "code",
   "execution_count": 24,
   "metadata": {},
   "outputs": [],
   "source": [
    "# Find the distribution of the position\n",
    "# of the agent after 2, 3, 4, 50 and 100 steps\n",
    "list_of_steps = [2,3,4,50,100]\n",
    "MCS = 1000"
   ]
  },
  {
   "cell_type": "code",
   "execution_count": null,
   "metadata": {},
   "outputs": [],
   "source": [
    "for steps in list_of_steps:\n",
    "    run_agent_multiple_times(steps,MCS)"
   ]
  },
  {
   "cell_type": "markdown",
   "metadata": {},
   "source": [
    "2. Let G = ({1, 2, 3, 4, 5, 6}, {1 → 2, 2 → 1, 2 → 2, 2 → 6, 2 → 3, 3 → 4, 4 → 5, 5 →\n",
    "6, 6 → 1, 6 → 6}). Consider a random walk on G and find numerically its ergodic\n",
    "probabilities."
   ]
  },
  {
   "cell_type": "code",
   "execution_count": 30,
   "metadata": {},
   "outputs": [],
   "source": [
    "#Let G\n",
    "adjacency_matrix = np.array([\n",
    "    [0, 1, 0, 0, 0, 0],  \n",
    "    [1, 1, 1, 0, 0, 1],  \n",
    "    [0, 0, 0, 1, 0, 0], \n",
    "    [0, 0, 0, 0, 1, 0], \n",
    "    [0, 0, 0, 0, 0, 1], \n",
    "    [1, 0, 0, 0, 0, 1]   \n",
    "])"
   ]
  },
  {
   "cell_type": "code",
   "execution_count": 32,
   "metadata": {},
   "outputs": [],
   "source": [
    "def run_ergodic_simulation(steps, MCS):\n",
    "    final_positions = []\n",
    "    for _ in range(MCS):\n",
    "        final_positions.append(run_agent(steps))\n",
    "        \n",
    "    # Calculate ergodic probabilities\n",
    "    frequencies = collections.Counter(final_positions)\n",
    "    ergodic_probabilities = {node: count / MCS for node, count in frequencies.items()}\n",
    "\n",
    "    sns.barplot(x=list(ergodic_probabilities.keys()), y=list(ergodic_probabilities.values()))\n",
    "    plt.title(f'Ergodic Probabilities after {steps} steps (MCS = {MCS})')\n",
    "    plt.xlabel('Node')\n",
    "    plt.ylabel('Probability')\n",
    "    plt.show()\n"
   ]
  },
  {
   "cell_type": "code",
   "execution_count": 34,
   "metadata": {},
   "outputs": [
    {
     "data": {
      "image/png": "[encoded data removed]",
      "text/plain": [
       "<Figure size 640x480 with 1 Axes>"
      ]
     },
     "metadata": {},
     "output_type": "display_data"
    }
   ],
   "source": [
    "run_ergodic_simulation(steps=100, MCS=10000)\n"
   ]
  }
 ],
 "metadata": {
  "kernelspec": {
   "display_name": "Python 3",
   "language": "python",
   "name": "python3"
  },
  "language_info": {
   "codemirror_mode": {
    "name": "ipython",
    "version": 3
   },
   "file_extension": ".py",
   "mimetype": "text/x-python",
   "name": "python",
   "nbconvert_exporter": "python",
   "pygments_lexer": "ipython3",
   "version": "3.12.1"
  },
  "orig_nbformat": 4
 },
 "nbformat": 4,
 "nbformat_minor": 2
}
